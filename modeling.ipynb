{
 "cells": [
  {
   "cell_type": "code",
   "execution_count": 11,
   "id": "b40508cc",
   "metadata": {},
   "outputs": [],
   "source": [
    "import os\n",
    "import tensorflow as tf\n",
    "import pandas as pd\n",
    "import matplotlib.pyplot as plt\n",
    "import numpy as np\n",
    "import math"
   ]
  },
  {
   "cell_type": "code",
   "execution_count": 12,
   "id": "dfcb4282",
   "metadata": {},
   "outputs": [],
   "source": [
    "class_names = ['Safe', 'Medium', 'Dangerous', 'Super Dangerous']"
   ]
  },
  {
   "cell_type": "code",
   "execution_count": 13,
   "id": "27695b95",
   "metadata": {},
   "outputs": [
    {
     "name": "stdout",
     "output_type": "stream",
     "text": [
      "Test dataset sample: \n",
      "   Unnamed: 0 county_code  month  day  hour  \\\n",
      "0           0      Newton      1    1     0   \n",
      "1           1      Newton      1    1     1   \n",
      "2           2      Newton      1    1     2   \n",
      "3           3      Newton      1    1     3   \n",
      "4           4      Newton      1    1     4   \n",
      "\n",
      "                                              crimes  \n",
      "0  [4, 1, 4, 1, 1, 1, 1, 1, 1, 3, 3, 1, 3, 3, 1, ...  \n",
      "1  [4, 1, 2, 4, 1, 1, 2, 2, 2, 1, 2, 4, 4, 4, 2, ...  \n",
      "2  [4, 3, 3, 4, 2, 3, 4, 4, 4, 1, 4, 4, 2, 2, 2, ...  \n",
      "3  [2, 4, 4, 4, 2, 1, 2, 4, 4, 4, 2, 3, 2, 4, 3, ...  \n",
      "4  [4, 3, 1, 4, 4, 1, 2, 4, 4, 4, 1, 4, 4, 4, 4, ...  \n",
      "Train dataset sample: \n",
      "       Unnamed: 0 county_code  month  day  hour  \\\n",
      "21168       21168     Olympic      7    1     0   \n",
      "21169       21169     Olympic      7    1     1   \n",
      "21170       21170     Olympic      7    1     2   \n",
      "21171       21171     Olympic      7    1     3   \n",
      "21172       21172     Olympic      7    1     4   \n",
      "\n",
      "                                                  crimes  \n",
      "21168  [3, 2, 2, 2, 4, 4, 4, 4, 4, 2, 2, 4, 4, 4, 4, ...  \n",
      "21169  [1, 4, 3, 4, 4, 1, 4, 1, 3, 4, 4, 2, 4, 3, 2, ...  \n",
      "21170  [2, 4, 4, 2, 4, 4, 4, 1, 4, 1, 4, 4, 3, 4, 4, ...  \n",
      "21171  [2, 4, 4, 4, 2, 4, 2, 4, 4, 2, 4, 4, 2, 2, 2, ...  \n",
      "21172  [3, 4, 2, 1, 2, 1, 4, 2, 1, 4, 4, 4, 4, 1, 4, ...  \n"
     ]
    }
   ],
   "source": [
    "df = pd.read_csv('data_mapping.csv')\n",
    "\n",
    "df2 = df.iloc[:-1, :]\n",
    "ds_test, ds_train =  np.array_split(df2, 2)\n",
    "\n",
    "print(\"Test dataset sample: \")\n",
    "print(ds_test.head(5))\n",
    "\n",
    "print(\"Train dataset sample: \")\n",
    "print(ds_train.head(5))\n",
    "\n",
    "ds_train_batch = ds_train.head(32)"
   ]
  },
  {
   "cell_type": "code",
   "execution_count": 14,
   "id": "4b2e1c00",
   "metadata": {},
   "outputs": [
    {
     "name": "stdout",
     "output_type": "stream",
     "text": [
      "       Unnamed: 0 county_code  month  day  hour\n",
      "21168       21168     Olympic      7    1     0\n",
      "21169       21169     Olympic      7    1     1\n",
      "21170       21170     Olympic      7    1     2\n",
      "21171       21171     Olympic      7    1     3\n",
      "21172       21172     Olympic      7    1     4\n",
      "21168    [3, 2, 2, 2, 4, 4, 4, 4, 4, 2, 2, 4, 4, 4, 4, ...\n",
      "21169    [1, 4, 3, 4, 4, 1, 4, 1, 3, 4, 4, 2, 4, 3, 2, ...\n",
      "21170    [2, 4, 4, 2, 4, 4, 4, 1, 4, 1, 4, 4, 3, 4, 4, ...\n",
      "21171    [2, 4, 4, 4, 2, 4, 2, 4, 4, 2, 4, 4, 2, 2, 2, ...\n",
      "21172    [3, 4, 2, 1, 2, 1, 4, 2, 1, 4, 4, 4, 4, 1, 4, ...\n",
      "Name: crimes, dtype: object\n"
     ]
    }
   ],
   "source": [
    "# features, labels = next(iter(ds_train_batch))\n",
    "features, labels = ds_train_batch.iloc[:, 0:5], ds_train_batch.iloc[:, 5]\n",
    "print(features.head(5))\n",
    "print(labels.head(5))"
   ]
  },
  {
   "cell_type": "code",
   "execution_count": 18,
   "id": "5824bcf8",
   "metadata": {},
   "outputs": [
    {
     "name": "stdout",
     "output_type": "stream",
     "text": [
      "4\n"
     ]
    },
    {
     "ename": "ValueError",
     "evalue": "invalid literal for int() with base 10: '['",
     "output_type": "error",
     "traceback": [
      "\u001b[0;31m---------------------------------------------------------------------------\u001b[0m",
      "\u001b[0;31mValueError\u001b[0m                                Traceback (most recent call last)",
      "\u001b[1;32m/Users/brianchen/Desktop/CrimePredictionProj/modeling.ipynb Cell 5\u001b[0m in \u001b[0;36m<cell line: 4>\u001b[0;34m()\u001b[0m\n\u001b[1;32m      <a href='vscode-notebook-cell:/Users/brianchen/Desktop/CrimePredictionProj/modeling.ipynb#W4sZmlsZQ%3D%3D?line=2'>3</a>\u001b[0m labels2 \u001b[39m=\u001b[39m {}\n\u001b[1;32m      <a href='vscode-notebook-cell:/Users/brianchen/Desktop/CrimePredictionProj/modeling.ipynb#W4sZmlsZQ%3D%3D?line=3'>4</a>\u001b[0m \u001b[39mfor\u001b[39;00m index \u001b[39min\u001b[39;00m labels\u001b[39m.\u001b[39mindex:\n\u001b[0;32m----> <a href='vscode-notebook-cell:/Users/brianchen/Desktop/CrimePredictionProj/modeling.ipynb#W4sZmlsZQ%3D%3D?line=4'>5</a>\u001b[0m     labels2 \u001b[39m=\u001b[39m [\u001b[39mint\u001b[39m(numeric_string) \u001b[39mfor\u001b[39;00m numeric_string \u001b[39min\u001b[39;00m labels[index]]\n\u001b[1;32m      <a href='vscode-notebook-cell:/Users/brianchen/Desktop/CrimePredictionProj/modeling.ipynb#W4sZmlsZQ%3D%3D?line=6'>7</a>\u001b[0m y \u001b[39m=\u001b[39m \u001b[39mlist\u001b[39m()\n\u001b[1;32m      <a href='vscode-notebook-cell:/Users/brianchen/Desktop/CrimePredictionProj/modeling.ipynb#W4sZmlsZQ%3D%3D?line=7'>8</a>\u001b[0m \u001b[39mfor\u001b[39;00m index, i \u001b[39min\u001b[39;00m labels2\u001b[39m.\u001b[39miteritems():\n",
      "\u001b[1;32m/Users/brianchen/Desktop/CrimePredictionProj/modeling.ipynb Cell 5\u001b[0m in \u001b[0;36m<listcomp>\u001b[0;34m(.0)\u001b[0m\n\u001b[1;32m      <a href='vscode-notebook-cell:/Users/brianchen/Desktop/CrimePredictionProj/modeling.ipynb#W4sZmlsZQ%3D%3D?line=2'>3</a>\u001b[0m labels2 \u001b[39m=\u001b[39m {}\n\u001b[1;32m      <a href='vscode-notebook-cell:/Users/brianchen/Desktop/CrimePredictionProj/modeling.ipynb#W4sZmlsZQ%3D%3D?line=3'>4</a>\u001b[0m \u001b[39mfor\u001b[39;00m index \u001b[39min\u001b[39;00m labels\u001b[39m.\u001b[39mindex:\n\u001b[0;32m----> <a href='vscode-notebook-cell:/Users/brianchen/Desktop/CrimePredictionProj/modeling.ipynb#W4sZmlsZQ%3D%3D?line=4'>5</a>\u001b[0m     labels2 \u001b[39m=\u001b[39m [\u001b[39mint\u001b[39;49m(numeric_string) \u001b[39mfor\u001b[39;00m numeric_string \u001b[39min\u001b[39;00m labels[index]]\n\u001b[1;32m      <a href='vscode-notebook-cell:/Users/brianchen/Desktop/CrimePredictionProj/modeling.ipynb#W4sZmlsZQ%3D%3D?line=6'>7</a>\u001b[0m y \u001b[39m=\u001b[39m \u001b[39mlist\u001b[39m()\n\u001b[1;32m      <a href='vscode-notebook-cell:/Users/brianchen/Desktop/CrimePredictionProj/modeling.ipynb#W4sZmlsZQ%3D%3D?line=7'>8</a>\u001b[0m \u001b[39mfor\u001b[39;00m index, i \u001b[39min\u001b[39;00m labels2\u001b[39m.\u001b[39miteritems():\n",
      "\u001b[0;31mValueError\u001b[0m: invalid literal for int() with base 10: '['"
     ]
    }
   ],
   "source": [
    "print(labels[21172][4])\n",
    "\n",
    "labels2 = {}\n",
    "for index in labels.index:\n",
    "    labels2 = [int(numeric_string) for numeric_string in labels[index]]\n",
    "\n",
    "y = list()\n",
    "for index, i in labels2.iteritems():\n",
    "    y.append((sum(i))/(len(i))) # finding the average severity\n",
    "plt.scatter(features.loc[:,\"hour\"],\n",
    "            y,\n",
    "            c=labels,\n",
    "            cmap='viridis')\n",
    "\n",
    "plt.xlabel(\"Body Mass\")\n",
    "plt.ylabel(\"Culmen Length\")\n",
    "plt.show()"
   ]
  },
  {
   "cell_type": "code",
   "execution_count": null,
   "id": "c103eb6d",
   "metadata": {},
   "outputs": [],
   "source": [
    "model = tf.keras.Sequential([\n",
    "  tf.keras.layers.Dense(10, activation=tf.nn.relu, input_shape=(4,)),  # input shape required\n",
    "  tf.keras.layers.Dense(10, activation=tf.nn.relu),\n",
    "  tf.keras.layers.Dense(3)\n",
    "])"
   ]
  },
  {
   "cell_type": "code",
   "execution_count": null,
   "id": "b3e36093",
   "metadata": {},
   "outputs": [
    {
     "data": {
      "text/plain": [
       "<tf.Tensor: shape=(5, 3), dtype=float32, numpy=\n",
       "array([[0.2565303 , 0.30331326, 0.4401565 ],\n",
       "       [0.2471776 , 0.3263538 , 0.42646858],\n",
       "       [0.22262622, 0.28859237, 0.4887814 ],\n",
       "       [0.27415708, 0.3131517 , 0.41269124],\n",
       "       [0.28524905, 0.33240163, 0.38234925]], dtype=float32)>"
      ]
     },
     "execution_count": 15,
     "metadata": {},
     "output_type": "execute_result"
    }
   ],
   "source": [
    "predictions = model(features)\n",
    "predictions[:5]\n",
    "\n",
    "tf.nn.softmax(predictions[:5])"
   ]
  },
  {
   "cell_type": "code",
   "execution_count": null,
   "id": "75803bff",
   "metadata": {},
   "outputs": [],
   "source": [
    "loss_object = tf.keras.losses.SparseCategoricalCrossentropy(from_logits=True)"
   ]
  },
  {
   "cell_type": "code",
   "execution_count": null,
   "id": "bd00a4c9",
   "metadata": {},
   "outputs": [
    {
     "name": "stdout",
     "output_type": "stream",
     "text": [
      "Loss test: 1.072019338607788\n"
     ]
    }
   ],
   "source": [
    "def loss(model, x, y, training):\n",
    "  # training=training is needed only if there are layers with different\n",
    "  # behavior during training versus inference (e.g. Dropout).\n",
    "  y_ = model(x, training=training)\n",
    "\n",
    "  return loss_object(y_true=y, y_pred=y_)\n",
    "\n",
    "l = loss(model, features, labels, training=False)\n",
    "print(\"Loss test: {}\".format(l))"
   ]
  },
  {
   "cell_type": "code",
   "execution_count": null,
   "id": "df4e5e4a",
   "metadata": {},
   "outputs": [],
   "source": [
    "# change the weights based on the loss. \n",
    "def grad(model, inputs, targets):\n",
    "  with tf.GradientTape() as tape:\n",
    "    loss_value = loss(model, inputs, targets, training=True)\n",
    "  return loss_value, tape.gradient(loss_value, model.trainable_variables)"
   ]
  },
  {
   "cell_type": "code",
   "execution_count": null,
   "id": "a824f663",
   "metadata": {},
   "outputs": [],
   "source": [
    "optimizer = tf.keras.optimizers.SGD(learning_rate=0.01)"
   ]
  },
  {
   "cell_type": "code",
   "execution_count": null,
   "id": "58fb54fb",
   "metadata": {},
   "outputs": [
    {
     "name": "stdout",
     "output_type": "stream",
     "text": [
      "Step: 0, Initial Loss: 1.072019338607788\n",
      "Step: 1,         Loss: 1.0699684619903564\n"
     ]
    }
   ],
   "source": [
    "loss_value, grads = grad(model, features, labels)\n",
    "\n",
    "print(\"Step: {}, Initial Loss: {}\".format(optimizer.iterations.numpy(),\n",
    "                                          loss_value.numpy()))\n",
    "\n",
    "optimizer.apply_gradients(zip(grads, model.trainable_variables))\n",
    "\n",
    "print(\"Step: {},         Loss: {}\".format(optimizer.iterations.numpy(),\n",
    "                                          loss(model, features, labels, training=True).numpy()))"
   ]
  },
  {
   "cell_type": "code",
   "execution_count": null,
   "id": "29bfc52b",
   "metadata": {},
   "outputs": [
    {
     "name": "stdout",
     "output_type": "stream",
     "text": [
      "Epoch 000: Loss: 1.062, Accuracy: 35.581%\n",
      "Epoch 050: Loss: 0.623, Accuracy: 79.775%\n",
      "Epoch 100: Loss: 0.437, Accuracy: 86.517%\n",
      "Epoch 150: Loss: 0.319, Accuracy: 96.255%\n",
      "Epoch 200: Loss: 0.231, Accuracy: 97.004%\n"
     ]
    }
   ],
   "source": [
    "## Note: Rerunning this cell uses the same model parameters\n",
    "\n",
    "# Keep results for plotting\n",
    "train_loss_results = []\n",
    "train_accuracy_results = []\n",
    "\n",
    "num_epochs = 201\n",
    "\n",
    "for epoch in range(num_epochs):\n",
    "  epoch_loss_avg = tf.keras.metrics.Mean()\n",
    "  epoch_accuracy = tf.keras.metrics.SparseCategoricalAccuracy()\n",
    "\n",
    "  # Training loop - using batches of 32\n",
    "  for x, y in ds_train_batch:\n",
    "    # Optimize the model\n",
    "    loss_value, grads = grad(model, x, y)\n",
    "    optimizer.apply_gradients(zip(grads, model.trainable_variables))\n",
    "\n",
    "    # Track progress\n",
    "    epoch_loss_avg.update_state(loss_value)  # Add current batch loss\n",
    "    # Compare predicted label to actual label\n",
    "    # training=True is needed only if there are layers with different\n",
    "    # behavior during training versus inference (e.g. Dropout).\n",
    "    epoch_accuracy.update_state(y, model(x, training=True))\n",
    "\n",
    "  # End epoch\n",
    "  train_loss_results.append(epoch_loss_avg.result())\n",
    "  train_accuracy_results.append(epoch_accuracy.result())\n",
    "\n",
    "  if epoch % 50 == 0:\n",
    "    print(\"Epoch {:03d}: Loss: {:.3f}, Accuracy: {:.3%}\".format(epoch,\n",
    "                                                                epoch_loss_avg.result(),\n",
    "                                                                epoch_accuracy.result()))"
   ]
  }
 ],
 "metadata": {
  "kernelspec": {
   "display_name": "new_env",
   "language": "python",
   "name": "python3"
  },
  "language_info": {
   "codemirror_mode": {
    "name": "ipython",
    "version": 3
   },
   "file_extension": ".py",
   "mimetype": "text/x-python",
   "name": "python",
   "nbconvert_exporter": "python",
   "pygments_lexer": "ipython3",
   "version": "3.8.13 (default, Mar 28 2022, 06:13:39) \n[Clang 12.0.0 ]"
  },
  "vscode": {
   "interpreter": {
    "hash": "a4b3835ffded70eaeb3a4ceae217103b23c13a5b6492ae0f02bcbb53c4aa9084"
   }
  }
 },
 "nbformat": 4,
 "nbformat_minor": 5
}
