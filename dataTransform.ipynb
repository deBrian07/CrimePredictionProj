{
 "cells": [
  {
   "cell_type": "code",
   "execution_count": 1,
   "id": "1c27455a",
   "metadata": {
    "scrolled": true
   },
   "outputs": [],
   "source": [
    "import pandas as pd\n",
    "import matplotlib.pyplot as plt"
   ]
  },
  {
   "cell_type": "code",
   "execution_count": 2,
   "id": "c3b320ea",
   "metadata": {},
   "outputs": [],
   "source": [
    "# # MERGING DATA\n",
    "# data1 = pd.read_csv('Crime_Data_from_2010_to_2019.csv')\n",
    "# data2 = pd.read_csv('Crime_Data_from_2020_to_Present.csv')\n",
    "\n",
    "# merged_data = pd.concat([data1, data2])\n",
    "# merged_data.to_csv('data.csv')"
   ]
  },
  {
   "cell_type": "code",
   "execution_count": 2,
   "id": "bc079040",
   "metadata": {},
   "outputs": [],
   "source": [
    "# IMPORT DATA\n",
    "data = pd.read_csv('data.csv')"
   ]
  },
  {
   "cell_type": "code",
   "execution_count": 5,
   "id": "3b2186c9",
   "metadata": {},
   "outputs": [],
   "source": [
    "# Adding day of week \n",
    "\n",
    "# from datetime import datetime\n",
    "# days = data['DATE OCC'].tolist()\n",
    "# day_of_week = list()\n",
    "# for i in days:\n",
    "#     day_of_week.append((datetime.strptime(i, '%m/%d/%Y %H:%M:%S %p')).isoweekday())\n",
    "\n",
    "# data['DAY IN WEEK'] = day_of_week\n",
    "# data.to_csv('data.csv')\n"
   ]
  },
  {
   "cell_type": "code",
   "execution_count": 32,
   "id": "148a9b9c",
   "metadata": {},
   "outputs": [],
   "source": [
    "# All the possible weapons\n",
    "weapons = data['Weapon Desc'].unique()"
   ]
  },
  {
   "cell_type": "code",
   "execution_count": 30,
   "id": "633f14d5",
   "metadata": {},
   "outputs": [
    {
     "name": "stdout",
     "output_type": "stream",
     "text": [
      "['Newton' 'Pacific' 'Hollywood' 'Central' 'Northeast' 'Hollenbeck'\n",
      " 'Southwest' 'Rampart' 'Devonshire' 'Southeast' 'Olympic' 'Harbor'\n",
      " 'Wilshire' '77th Street' 'West LA' 'Topanga' 'Mission' 'Van Nuys'\n",
      " 'N Hollywood' 'Foothill' 'West Valley']\n"
     ]
    }
   ],
   "source": [
    "# List of country code\n",
    "data2 = pd.read_csv('HourCountyMonth.csv')\n",
    "counties = data['AREA NAME'].unique()"
   ]
  },
  {
   "cell_type": "code",
   "execution_count": 41,
   "id": "5b750bd2",
   "metadata": {},
   "outputs": [
    {
     "name": "stdout",
     "output_type": "stream",
     "text": [
      "['01', '02', '03', '04', '05', '06', '07', '08', '09', '10', '11', '12']\n"
     ]
    }
   ],
   "source": [
    "# list of months\n",
    "months = list()\n",
    "for i in range(1, 13):\n",
    "    if i < 10: \n",
    "        months.append('0' + str(i))\n",
    "    else:\n",
    "        months.append(str(i))\n",
    "print(months)"
   ]
  },
  {
   "cell_type": "code",
   "execution_count": 3,
   "id": "fe4566cc",
   "metadata": {},
   "outputs": [],
   "source": [
    "severity_mapping = {\n",
    "'VIOLATION OF COURT ORDER':    3,\n",
    "'VANDALISM - FELONY ($400 & OVER, ALL CHURCH VANDALISMS)': 3,\n",
    "'OTHER MISCELLANEOUS CRIME':   1,\n",
    "'RAPE, ATTEMPTED':     4,\n",
    "'SHOPLIFTING - PETTY THEFT ($950 & UNDER)':    1,\n",
    "'BURGLARY FROM VEHICLE':   2,\n",
    "'ASSAULT WITH DEADLY WEAPON, AGGRAVATED ASSAULT':  4,\n",
    "'THEFT-GRAND ($950.01 & OVER)EXCPT,GUNS,FOWL,LIVESTK,PROD':    1,\n",
    "'BATTERY - SIMPLE ASSAULT':    4,\n",
    "'ROBBERY':     4,\n",
    "'BOMB SCARE':      2,\n",
    "'CHILD NEGLECT (SEE 300 W.I.C.)':  3,\n",
    "'INTIMATE PARTNER - AGGRAVATED ASSAULT':   4,\n",
    "'INTIMATE PARTNER - SIMPLE ASSAULT':   4,\n",
    "'THEFT PLAIN - PETTY ($950 & UNDER)':  1,\n",
    "'CRIMINAL THREATS - NO WEAPON DISPLAYED':  3,\n",
    "'ATTEMPTED ROBBERY':   1,\n",
    "'VANDALISM - MISDEAMEANOR ($399 OR UNDER)':    2,\n",
    "'BURGLARY':    2,\n",
    "'ARSON':   4,\n",
    "'RAPE, FORCIBLE':  4,\n",
    "'BRANDISH WEAPON': 3,\n",
    "'THROWING OBJECT AT MOVING VEHICLE':   4,\n",
    "'SHOPLIFTING-GRAND THEFT ($950.01 & OVER)':    3,\n",
    "'CHILD ABUSE (PHYSICAL) - SIMPLE ASSAULT':     3,\n",
    "'SHOTS FIRED AT INHABITED DWELLING':   4,\n",
    "'VEHICLE - STOLEN':    1,\n",
    "'KIDNAPPING - GRAND ATTEMPT':  4,\n",
    "'CRIMINAL HOMICIDE':   3,\n",
    "'THEFT PLAIN - ATTEMPT':   1,\n",
    "'THEFT, PERSON':   1,\n",
    "'TRESPASSING': 1,\n",
    "'KIDNAPPING':  4,\n",
    "'VEHICLE - ATTEMPT STOLEN':    1,\n",
    "'BATTERY WITH SEXUAL CONTACT': 4,\n",
    "'DOCUMENT FORGERY / STOLEN FELONY':    1,\n",
    "'BATTERY POLICE (SIMPLE)': 2,\n",
    "'CHILD ABUSE (PHYSICAL) - AGGRAVATED ASSAULT':     3,\n",
    "'DISTURBING THE PEACE':    1,\n",
    "'OTHER ASSAULT':   4,\n",
    "'VIOLATION OF RESTRAINING ORDER':  1,\n",
    "'LEWD CONDUCT':    1,\n",
    "'CRM AGNST CHLD (13 OR UNDER) (14-15 & SUSP 10 YRS OLDER)':    3,\n",
    "'THEFT OF IDENTITY':   1,\n",
    "'ASSAULT WITH DEADLY WEAPON ON POLICE OFFICER':    4,\n",
    "'CHILD ANNOYING (17YRS & UNDER)':  1,\n",
    "'SODOMY/SEXUAL CONTACT B/W PENIS OF ONE PERS TO ANUS OTH': 4,\n",
    "'ORAL COPULATION': 3,\n",
    "'CRUELTY TO ANIMALS':  2,\n",
    "'THEFT FROM MOTOR VEHICLE - PETTY ($950 & UNDER)': 1,\n",
    "'LETTERS, LEWD  -  TELEPHONE CALLS, LEWD': 1,\n",
    "'PEEPING TOM': 1,\n",
    "'INDECENT EXPOSURE':   2,\n",
    "'BIKE - STOLEN':   1,\n",
    "'BURGLARY FROM VEHICLE, ATTEMPTED':    2,\n",
    "'BURGLARY, ATTEMPTED': 2,\n",
    "'STALKING':    2,\n",
    "'THREATENING PHONE CALLS/LETTERS':     3,\n",
    "'SEX,UNLAWFUL(INC MUTUAL CONSENT, PENETRATION W/ FRGN OBJ':    3,\n",
    "'BUNCO, PETTY THEFT':  1,\n",
    "'BUNCO, GRAND THEFT':  1,\n",
    "'VIOLATION OF TEMPORARY RESTRAINING ORDER':    1,\n",
    "'EMBEZZLEMENT, GRAND THEFT ($950.01 & OVER)':  2,\n",
    "'SEXUAL PENETRATION W/FOREIGN OBJECT': 3,\n",
    "'EXTORTION':   2,\n",
    "'PICKPOCKET':  1,\n",
    "'EMBEZZLEMENT, PETTY THEFT ($950 & UNDER)':    1,\n",
    "'PURSE SNATCHING': 3,\n",
    "'WEAPONS POSSESSION/BOMBING':  4,\n",
    "'COUNTERFEIT': 1,\n",
    "'FALSE IMPRISONMENT':  1,\n",
    "'CREDIT CARDS, FRAUD USE ($950.01 & OVER)':    1,\n",
    "'DISCHARGE FIREARMS/SHOTS FIRED':  4,\n",
    "'THEFT FROM PERSON - ATTEMPT': 2,\n",
    "'UNAUTHORIZED COMPUTER ACCESS':    1,\n",
    "'PANDERING':   1,\n",
    "'PIMPING': 1,\n",
    "'DRUNK ROLL - ATTEMPT':    1,\n",
    "'SHOPLIFTING - ATTEMPT':   1,\n",
    "'RESISTING ARREST':    3,\n",
    "'DISHONEST EMPLOYEE - GRAND THEFT':    2,\n",
    "'RECKLESS DRIVING':    1,\n",
    "'PROWLER': 1,\n",
    "'CREDIT CARDS, FRAUD USE ($950 & UNDER':   1,\n",
    "'DOCUMENT WORTHLESS ($200.01 & OVER)': 1,\n",
    "'CHILD STEALING':  4,\n",
    "'CONTEMPT OF COURT':   1,\n",
    "'CONSPIRACY':  1,\n",
    "'THEFT FROM MOTOR VEHICLE - ATTEMPT':  1,\n",
    "'DRUNK ROLL':  1,\n",
    "'BATTERY ON A FIREFIGHTER':    1,\n",
    "'ILLEGAL DUMPING': 1,\n",
    "'LYNCHING':    3,\n",
    "'THEFT, COIN MACHINE - PETTY ($950 & UNDER)':  1,\n",
    "'GRAND THEFT / INSURANCE FRAUD':   1,\n",
    "'BUNCO, ATTEMPT':  1,\n",
    "'DISRUPT SCHOOL':  1,\n",
    "'THEFT, COIN MACHINE - GRAND ($950.01 & OVER)':    1,\n",
    "'FALSE POLICE REPORT': 1,\n",
    "'PURSE SNATCHING - ATTEMPT':   2,\n",
    "'BOAT - STOLEN':   1,\n",
    "'SHOTS FIRED AT MOVING VEHICLE, TRAIN OR AIRCRAFT':    3,\n",
    "'DRIVING WITHOUT OWNER CONSENT (DWOC)':    2,\n",
    "'CONTRIBUTING':    1,\n",
    "'FAILURE TO YIELD':    2,\n",
    "'TILL TAP - ATTEMPT':  1,\n",
    "'DRUGS, TO A MINOR':   4,\n",
    "'INCITING A RIOT': 4,\n",
    "'BEASTIALITY, CRIME AGAINST NATURE SEXUAL ASSLT WITH ANIM':    1,\n",
    "'BRIBERY': 2,\n",
    "'THEFT FROM MOTOR VEHICLE - GRAND ($950.01 AND OVER)': 2,\n",
    "'DEFRAUDING INNKEEPER/THEFT OF SERVICES, $950 & UNDER':    1,\n",
    "'DEFRAUDING INNKEEPER/THEFT OF SERVICES, OVER $950.01':    1,\n",
    "'TILL TAP - GRAND THEFT ($950.01 & OVER)': 1,\n",
    "'LYNCHING - ATTEMPTED':    2,\n",
    "'SEX OFFENDER REGISTRANT OUT OF COMPLIANCE':   3,\n",
    "'CHILD ABANDONMENT':   3,\n",
    "'LEWD/LASCIVIOUS ACTS WITH CHILD': 1,\n",
    "'DISHONEST EMPLOYEE - PETTY THEFT':    1,\n",
    "'TELEPHONE PROPERTY - DAMAGE': 1,\n",
    "'PICKPOCKET, ATTEMPT': 1,\n",
    "'TILL TAP - PETTY ($950 & UNDER)': 1,\n",
    "'DOCUMENT WORTHLESS ($200 & UNDER)':   1,\n",
    "'HUMAN TRAFFICKING - COMMERCIAL SEX ACTS': 3,\n",
    "'MANSLAUGHTER, NEGLIGENT': 4,\n",
    "'GRAND THEFT / AUTO REPAIR':   2,\n",
    "'BIGAMY':  1,\n",
    "'THEFT, COIN MACHINE - ATTEMPT':   1,\n",
    "'PETTY THEFT - AUTO REPAIR':   1,\n",
    "'BIKE - ATTEMPTED STOLEN': 1,\n",
    "'FAILURE TO DISPERSE': 1,\n",
    "'REPLICA FIREARMS(SALE,DISPLAY,MANUFACTURE OR DISTRIBUTE)':    2,\n",
    "'HUMAN TRAFFICKING - INVOLUNTARY SERVITUDE':   3,\n",
    "'CHILD PORNOGRAPHY':   3,\n",
    "'ABORTION/ILLEGAL':    1,\n",
    "'INCEST (SEXUAL ACTS BETWEEN BLOOD RELATIVES)':    2,\n",
    "'DISHONEST EMPLOYEE ATTEMPTED THEFT':  1,\n",
    "'TRAIN WRECKING':  1,\n",
    "'BLOCKING DOOR INDUCTION CENTER':  1,\n",
    "'FIREARMS RESTRAINING ORDER (FIREARMS RO)':    2,\n",
    "'VEHICLE - MOTORIZED SCOOTERS, BICYCLES, AND WHEELCHAIRS': 1,\n",
    "'FIREARMS TEMPORARY RESTRAINING ORDER (TEMP FIREARMS RO)': 1,\n",
    "'FIREARMS EMERGENCY PROTECTIVE ORDER (FIREARMS EPO)':  2\n",
    "}"
   ]
  },
  {
   "cell_type": "code",
   "execution_count": 11,
   "id": "81f209a0",
   "metadata": {},
   "outputs": [],
   "source": [
    "# check if every row has a corresponding severity\n",
    "for index, row in data.iterrows():\n",
    "    try:\n",
    "        if(row['Crm Cd Desc'] not in severity_mapping):\n",
    "            print(row['Crm Cd Desc'])\n",
    "    except:\n",
    "        print(row['Crm Cd Desc'])"
   ]
  },
  {
   "cell_type": "code",
   "execution_count": 15,
   "id": "726e2039",
   "metadata": {},
   "outputs": [],
   "source": [
    "from collections import defaultdict\n",
    "import math\n",
    "\n",
    "## GOAL: create buckets such that we know when and where there is no crime and when and where there is a lot\n",
    "# Step 1: create dictionary so that we can get instant lookup\n",
    "# dictionary uses default dict for ease of life, assume it works same as normal dictionary\n",
    "# check out https://www.geeksforgeeks.org/defaultdict-in-python/ for more info\n",
    "\n",
    "# dictionary stores all crimes and their corresponding severity for each bucket \n",
    "# stored as an array of crime severities\n",
    "data_mapping = dict(dict(dict(list())))\n",
    "# county: {month: {hour: severity}}\n",
    "# \"orange county\": {\n",
    "#    1: {\n",
    "# 0: []\n",
    "# 1: []\n",
    "# }\n",
    "\n",
    "for index, row in data.iterrows():\n",
    "    hour = math.floor((row['TIME OCC'] / 100))\n",
    "    county_code = row['AREA NAME']\n",
    "    month = ((row['DATE OCC']).split('/'))[0] # split with /, get the first element\n",
    "    day = row['DAY IN WEEK']\n",
    "\n",
    "    if county_code not in data_mapping:\n",
    "        data_mapping[county_code] = { }\n",
    "    if (month) not in (data_mapping.get(county_code)):\n",
    "        data_mapping[county_code][month] = { }\n",
    "    if (day) not in (data_mapping.get(county_code).get(month)):\n",
    "        data_mapping[county_code][month][day] = { }\n",
    "    if hour not in ((data_mapping.get(county_code)).get(month).get(day)):\n",
    "        data_mapping[county_code][month][day][hour] = list()\n",
    "\n",
    "    data_mapping[county_code][month][day][hour].append(int(severity_mapping[row['Crm Cd Desc']]))"
   ]
  },
  {
   "cell_type": "code",
   "execution_count": 28,
   "id": "db3b01dc",
   "metadata": {},
   "outputs": [
    {
     "name": "stdout",
     "output_type": "stream",
     "text": [
      "[2, 4, 4, 2, 1, 4, 4, 2, 2, 4, 4, 4, 4, 4, 1, 4, 3, 4, 2, 4, 1, 1, 1, 1, 1, 4, 2, 4, 4, 1, 2, 1, 4, 4, 4, 4, 4, 2, 1, 4, 2, 4, 1, 4, 4, 4, 1, 3, 1, 2, 3, 1, 1, 1, 1, 4, 4, 4, 2, 1, 4, 4, 1, 1, 2, 4, 2, 4, 4, 4, 4, 1, 4, 1, 4, 2, 4, 4, 3, 1, 4, 3, 4, 1, 1, 4, 3, 1, 1, 2, 4, 3, 1, 2, 4, 4, 2, 1, 1, 1, 4, 4, 4, 1, 4, 4, 4, 4, 4, 1, 4, 1, 1, 1, 4, 4, 1, 1, 2, 1, 2, 4, 4, 3, 4, 4, 4, 2, 1]\n"
     ]
    }
   ],
   "source": [
    "print(data_mapping['Hollywood']['02'][7][1])"
   ]
  },
  {
   "cell_type": "code",
   "execution_count": 42,
   "id": "ea7b1309",
   "metadata": {},
   "outputs": [],
   "source": [
    "# Create a list of dictionaries\n",
    "data_mapping_list = list()\n",
    "\n",
    "for county_code in counties:\n",
    "    for month in months:\n",
    "        for day in range(1,8):\n",
    "            for hour in range(0,24):\n",
    "                row = {\n",
    "                    'county_code': county_code,\n",
    "                    'month': month,\n",
    "                    'day': day,\n",
    "                    'hour': hour,\n",
    "                    'crimes': data_mapping[county_code][month][day][hour]\n",
    "                }\n",
    "                data_mapping_list.append(row)"
   ]
  },
  {
   "cell_type": "code",
   "execution_count": 44,
   "id": "1ba2d615",
   "metadata": {},
   "outputs": [],
   "source": [
    "# SAVING AS A DATAFRAME\n",
    "\n",
    "data_mapping = pd.DataFrame.from_dict(data_mapping_list)\n",
    "data_mapping.to_csv('data_mapping.csv')"
   ]
  }
 ],
 "metadata": {
  "kernelspec": {
   "display_name": "Python 3.9.6 ('venv': venv)",
   "language": "python",
   "name": "python3"
  },
  "language_info": {
   "codemirror_mode": {
    "name": "ipython",
    "version": 3
   },
   "file_extension": ".py",
   "mimetype": "text/x-python",
   "name": "python",
   "nbconvert_exporter": "python",
   "pygments_lexer": "ipython3",
   "version": "3.9.6"
  },
  "vscode": {
   "interpreter": {
    "hash": "50a83e03e203417ec21ad66b48d2dc7634b3d31efbf9c4fa5f9b03c7484f6bb1"
   }
  }
 },
 "nbformat": 4,
 "nbformat_minor": 5
}
